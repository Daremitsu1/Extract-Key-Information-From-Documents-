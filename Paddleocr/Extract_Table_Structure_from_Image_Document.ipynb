{
  "nbformat": 4,
  "nbformat_minor": 0,
  "metadata": {
    "colab": {
      "provenance": []
    },
    "kernelspec": {
      "name": "python3",
      "display_name": "Python 3"
    },
    "language_info": {
      "name": "python"
    }
  },
  "cells": [
    {
      "cell_type": "code",
      "execution_count": 1,
      "metadata": {
        "colab": {
          "base_uri": "https://localhost:8080/"
        },
        "id": "6x_sjvgjpNPZ",
        "outputId": "bf42f9e1-30f5-44a6-910a-11e1ae0c4feb"
      },
      "outputs": [
        {
          "output_type": "stream",
          "name": "stdout",
          "text": [
            "Cloning into 'PaddleOCR'...\n",
            "remote: Enumerating objects: 44727, done.\u001b[K\n",
            "remote: Counting objects: 100% (1010/1010), done.\u001b[K\n",
            "remote: Compressing objects: 100% (427/427), done.\u001b[K\n",
            "remote: Total 44727 (delta 645), reused 887 (delta 583), pack-reused 43717\u001b[K\n",
            "Receiving objects: 100% (44727/44727), 338.32 MiB | 31.78 MiB/s, done.\n",
            "Resolving deltas: 100% (31452/31452), done.\n",
            "Checking out files: 100% (1525/1525), done.\n"
          ]
        }
      ],
      "source": [
        "! git clone https://github.com/PaddlePaddle/PaddleOCR.git"
      ]
    },
    {
      "cell_type": "code",
      "source": [
        "!pip install paddleocr --upgrade -q\n",
        "!pip install paddlepaddle"
      ],
      "metadata": {
        "colab": {
          "base_uri": "https://localhost:8080/"
        },
        "id": "tXEwbpPTpkp5",
        "outputId": "bb14eaf0-2c74-4b3a-a362-44464d6a1311"
      },
      "execution_count": 2,
      "outputs": [
        {
          "output_type": "stream",
          "name": "stdout",
          "text": [
            "\u001b[K     |████████████████████████████████| 409 kB 5.2 MB/s \n",
            "\u001b[K     |████████████████████████████████| 8.7 MB 48.8 MB/s \n",
            "\u001b[K     |████████████████████████████████| 4.9 MB 47.0 MB/s \n",
            "\u001b[K     |████████████████████████████████| 965 kB 46.1 MB/s \n",
            "\u001b[K     |████████████████████████████████| 148 kB 69.7 MB/s \n",
            "\u001b[K     |████████████████████████████████| 87 kB 6.1 MB/s \n",
            "\u001b[?25h  Installing build dependencies ... \u001b[?25l\u001b[?25hdone\n",
            "  Getting requirements to build wheel ... \u001b[?25l\u001b[?25hdone\n",
            "    Preparing wheel metadata ... \u001b[?25l\u001b[?25hdone\n",
            "\u001b[K     |████████████████████████████████| 5.6 MB 44.9 MB/s \n",
            "\u001b[K     |████████████████████████████████| 604 kB 49.4 MB/s \n",
            "\u001b[K     |████████████████████████████████| 2.2 MB 24.9 MB/s \n",
            "\u001b[K     |████████████████████████████████| 399 kB 66.4 MB/s \n",
            "\u001b[K     |████████████████████████████████| 204 kB 43.7 MB/s \n",
            "\u001b[K     |████████████████████████████████| 115 kB 55.9 MB/s \n",
            "\u001b[K     |████████████████████████████████| 2.3 MB 49.4 MB/s \n",
            "\u001b[K     |████████████████████████████████| 110 kB 47.4 MB/s \n",
            "\u001b[?25h  Building wheel for lanms-neo (PEP 517) ... \u001b[?25l\u001b[?25hdone\n",
            "  Building wheel for fire (setup.py) ... \u001b[?25l\u001b[?25hdone\n",
            "  Building wheel for python-docx (setup.py) ... \u001b[?25l\u001b[?25hdone\n",
            "  Building wheel for Polygon3 (setup.py) ... \u001b[?25l\u001b[?25hdone\n",
            "Looking in indexes: https://pypi.org/simple, https://us-python.pkg.dev/colab-wheels/public/simple/\n",
            "Collecting paddlepaddle\n",
            "  Downloading paddlepaddle-2.3.2-cp37-cp37m-manylinux1_x86_64.whl (112.5 MB)\n",
            "\u001b[K     |████████████████████████████████| 112.5 MB 1.2 MB/s \n",
            "\u001b[?25hCollecting paddle-bfloat==0.1.7\n",
            "  Downloading paddle_bfloat-0.1.7-cp37-cp37m-manylinux_2_17_x86_64.manylinux2014_x86_64.whl (394 kB)\n",
            "\u001b[K     |████████████████████████████████| 394 kB 47.9 MB/s \n",
            "\u001b[?25hRequirement already satisfied: Pillow in /usr/local/lib/python3.7/dist-packages (from paddlepaddle) (7.1.2)\n",
            "Requirement already satisfied: opt-einsum==3.3.0 in /usr/local/lib/python3.7/dist-packages (from paddlepaddle) (3.3.0)\n",
            "Requirement already satisfied: numpy>=1.13 in /usr/local/lib/python3.7/dist-packages (from paddlepaddle) (1.21.6)\n",
            "Requirement already satisfied: astor in /usr/local/lib/python3.7/dist-packages (from paddlepaddle) (0.8.1)\n",
            "Requirement already satisfied: requests>=2.20.0 in /usr/local/lib/python3.7/dist-packages (from paddlepaddle) (2.23.0)\n",
            "Requirement already satisfied: six in /usr/local/lib/python3.7/dist-packages (from paddlepaddle) (1.15.0)\n",
            "Requirement already satisfied: decorator in /usr/local/lib/python3.7/dist-packages (from paddlepaddle) (4.4.2)\n",
            "Requirement already satisfied: protobuf<=3.20.0,>=3.1.0 in /usr/local/lib/python3.7/dist-packages (from paddlepaddle) (3.17.3)\n",
            "Requirement already satisfied: chardet<4,>=3.0.2 in /usr/local/lib/python3.7/dist-packages (from requests>=2.20.0->paddlepaddle) (3.0.4)\n",
            "Requirement already satisfied: certifi>=2017.4.17 in /usr/local/lib/python3.7/dist-packages (from requests>=2.20.0->paddlepaddle) (2022.9.24)\n",
            "Requirement already satisfied: urllib3!=1.25.0,!=1.25.1,<1.26,>=1.21.1 in /usr/local/lib/python3.7/dist-packages (from requests>=2.20.0->paddlepaddle) (1.24.3)\n",
            "Requirement already satisfied: idna<3,>=2.5 in /usr/local/lib/python3.7/dist-packages (from requests>=2.20.0->paddlepaddle) (2.10)\n",
            "Installing collected packages: paddle-bfloat, paddlepaddle\n",
            "Successfully installed paddle-bfloat-0.1.7 paddlepaddle-2.3.2\n"
          ]
        }
      ]
    },
    {
      "cell_type": "code",
      "source": [
        "%cd PaddleOCR/ppstructure\n",
        "\n",
        "# download model\n",
        "!mkdir inference\n",
        "%cd inference\n",
        "# Download the detection model of the ultra-lightweight table English OCR model and unzip it\n",
        "!wget https://paddleocr.bj.bcebos.com/dygraph_v2.0/table/en_ppocr_mobile_v2.0_table_det_infer.tar && tar xf en_ppocr_mobile_v2.0_table_det_infer.tar\n",
        "# Download the recognition model of the ultra-lightweight table English OCR model and unzip it\n",
        "!wget https://paddleocr.bj.bcebos.com/dygraph_v2.0/table/en_ppocr_mobile_v2.0_table_rec_infer.tar && tar xf en_ppocr_mobile_v2.0_table_rec_infer.tar\n",
        "# Download the ultra-lightweight English table inch model and unzip it\n",
        "!wget https://paddleocr.bj.bcebos.com/dygraph_v2.0/table/en_ppocr_mobile_v2.0_table_structure_infer.tar && tar xf en_ppocr_mobile_v2.0_table_structure_infer.tar\n",
        "\n",
        "##New OCR Model\n",
        "#!wget https://paddleocr.bj.bcebos.com/PP-OCRv3/english/en_PP-OCRv3_det_infer.tar && tar xf en_PP-OCRv3_det_infer.tar"
      ],
      "metadata": {
        "colab": {
          "base_uri": "https://localhost:8080/"
        },
        "id": "n968JYLLpxaB",
        "outputId": "1801ffad-d56b-4267-df20-0a3d46d51b3e"
      },
      "execution_count": 3,
      "outputs": [
        {
          "output_type": "stream",
          "name": "stdout",
          "text": [
            "/content/PaddleOCR/ppstructure\n",
            "/content/PaddleOCR/ppstructure/inference\n",
            "--2022-10-25 10:20:20--  https://paddleocr.bj.bcebos.com/dygraph_v2.0/table/en_ppocr_mobile_v2.0_table_det_infer.tar\n",
            "Resolving paddleocr.bj.bcebos.com (paddleocr.bj.bcebos.com)... 103.235.46.61, 2409:8c04:1001:1002:0:ff:b001:368a\n",
            "Connecting to paddleocr.bj.bcebos.com (paddleocr.bj.bcebos.com)|103.235.46.61|:443... connected.\n",
            "HTTP request sent, awaiting response... 200 OK\n",
            "Length: 5001216 (4.8M) [application/x-tar]\n",
            "Saving to: ‘en_ppocr_mobile_v2.0_table_det_infer.tar’\n",
            "\n",
            "en_ppocr_mobile_v2. 100%[===================>]   4.77M   777KB/s    in 8.2s    \n",
            "\n",
            "2022-10-25 10:20:30 (598 KB/s) - ‘en_ppocr_mobile_v2.0_table_det_infer.tar’ saved [5001216/5001216]\n",
            "\n",
            "--2022-10-25 10:20:30--  https://paddleocr.bj.bcebos.com/dygraph_v2.0/table/en_ppocr_mobile_v2.0_table_rec_infer.tar\n",
            "Resolving paddleocr.bj.bcebos.com (paddleocr.bj.bcebos.com)... 103.235.46.61, 2409:8c04:1001:1002:0:ff:b001:368a\n",
            "Connecting to paddleocr.bj.bcebos.com (paddleocr.bj.bcebos.com)|103.235.46.61|:443... connected.\n",
            "HTTP request sent, awaiting response... 200 OK\n",
            "Length: 7220736 (6.9M) [application/x-tar]\n",
            "Saving to: ‘en_ppocr_mobile_v2.0_table_rec_infer.tar’\n",
            "\n",
            "en_ppocr_mobile_v2. 100%[===================>]   6.89M  1.39MB/s    in 5.3s    \n",
            "\n",
            "2022-10-25 10:20:37 (1.29 MB/s) - ‘en_ppocr_mobile_v2.0_table_rec_infer.tar’ saved [7220736/7220736]\n",
            "\n",
            "--2022-10-25 10:20:37--  https://paddleocr.bj.bcebos.com/dygraph_v2.0/table/en_ppocr_mobile_v2.0_table_structure_infer.tar\n",
            "Resolving paddleocr.bj.bcebos.com (paddleocr.bj.bcebos.com)... 103.235.46.61, 2409:8c04:1001:1002:0:ff:b001:368a\n",
            "Connecting to paddleocr.bj.bcebos.com (paddleocr.bj.bcebos.com)|103.235.46.61|:443... connected.\n",
            "HTTP request sent, awaiting response... 200 OK\n",
            "Length: 7362048 (7.0M) [application/x-tar]\n",
            "Saving to: ‘en_ppocr_mobile_v2.0_table_structure_infer.tar’\n",
            "\n",
            "en_ppocr_mobile_v2. 100%[===================>]   7.02M   692KB/s    in 22s     \n",
            "\n",
            "2022-10-25 10:21:00 (331 KB/s) - ‘en_ppocr_mobile_v2.0_table_structure_infer.tar’ saved [7362048/7362048]\n",
            "\n"
          ]
        }
      ]
    },
    {
      "cell_type": "code",
      "source": [
        "# run\n",
        "%cd PaddleOCR/ppstructure\n",
        "!python3 /content/PaddleOCR/ppstructure/table/predict_table.py --det_model_dir=inference/en_PP-OCRv3_det_infer --rec_model_dir=inference/en_ppocr_mobile_v2.0_table_rec_infer --t"
      ],
      "metadata": {
        "colab": {
          "base_uri": "https://localhost:8080/"
        },
        "id": "03y0fm6oqIT_",
        "outputId": "23e84397-1d93-45de-b1e2-e479314ef2de"
      },
      "execution_count": 4,
      "outputs": [
        {
          "output_type": "stream",
          "name": "stdout",
          "text": [
            "[Errno 2] No such file or directory: 'PaddleOCR/ppstructure'\n",
            "/content/PaddleOCR/ppstructure/inference\n",
            "usage: predict_table.py [-h] [--use_gpu USE_GPU] [--use_xpu USE_XPU]\n",
            "                        [--ir_optim IR_OPTIM] [--use_tensorrt USE_TENSORRT]\n",
            "                        [--min_subgraph_size MIN_SUBGRAPH_SIZE]\n",
            "                        [--precision PRECISION] [--gpu_mem GPU_MEM]\n",
            "                        [--image_dir IMAGE_DIR]\n",
            "                        [--det_algorithm DET_ALGORITHM]\n",
            "                        [--det_model_dir DET_MODEL_DIR]\n",
            "                        [--det_limit_side_len DET_LIMIT_SIDE_LEN]\n",
            "                        [--det_limit_type DET_LIMIT_TYPE]\n",
            "                        [--det_db_thresh DET_DB_THRESH]\n",
            "                        [--det_db_box_thresh DET_DB_BOX_THRESH]\n",
            "                        [--det_db_unclip_ratio DET_DB_UNCLIP_RATIO]\n",
            "                        [--max_batch_size MAX_BATCH_SIZE]\n",
            "                        [--use_dilation USE_DILATION]\n",
            "                        [--det_db_score_mode DET_DB_SCORE_MODE]\n",
            "                        [--det_east_score_thresh DET_EAST_SCORE_THRESH]\n",
            "                        [--det_east_cover_thresh DET_EAST_COVER_THRESH]\n",
            "                        [--det_east_nms_thresh DET_EAST_NMS_THRESH]\n",
            "                        [--det_sast_score_thresh DET_SAST_SCORE_THRESH]\n",
            "                        [--det_sast_nms_thresh DET_SAST_NMS_THRESH]\n",
            "                        [--det_sast_polygon DET_SAST_POLYGON]\n",
            "                        [--det_pse_thresh DET_PSE_THRESH]\n",
            "                        [--det_pse_box_thresh DET_PSE_BOX_THRESH]\n",
            "                        [--det_pse_min_area DET_PSE_MIN_AREA]\n",
            "                        [--det_pse_box_type DET_PSE_BOX_TYPE]\n",
            "                        [--det_pse_scale DET_PSE_SCALE] [--scales SCALES]\n",
            "                        [--alpha ALPHA] [--beta BETA]\n",
            "                        [--fourier_degree FOURIER_DEGREE]\n",
            "                        [--det_fce_box_type DET_FCE_BOX_TYPE]\n",
            "                        [--rec_algorithm REC_ALGORITHM]\n",
            "                        [--rec_model_dir REC_MODEL_DIR]\n",
            "                        [--rec_image_shape REC_IMAGE_SHAPE]\n",
            "                        [--rec_batch_num REC_BATCH_NUM]\n",
            "                        [--max_text_length MAX_TEXT_LENGTH]\n",
            "                        [--rec_char_dict_path REC_CHAR_DICT_PATH]\n",
            "                        [--use_space_char USE_SPACE_CHAR]\n",
            "                        [--vis_font_path VIS_FONT_PATH]\n",
            "                        [--drop_score DROP_SCORE]\n",
            "                        [--e2e_algorithm E2E_ALGORITHM]\n",
            "                        [--e2e_model_dir E2E_MODEL_DIR]\n",
            "                        [--e2e_limit_side_len E2E_LIMIT_SIDE_LEN]\n",
            "                        [--e2e_limit_type E2E_LIMIT_TYPE]\n",
            "                        [--e2e_pgnet_score_thresh E2E_PGNET_SCORE_THRESH]\n",
            "                        [--e2e_char_dict_path E2E_CHAR_DICT_PATH]\n",
            "                        [--e2e_pgnet_valid_set E2E_PGNET_VALID_SET]\n",
            "                        [--e2e_pgnet_mode E2E_PGNET_MODE]\n",
            "                        [--use_angle_cls USE_ANGLE_CLS]\n",
            "                        [--cls_model_dir CLS_MODEL_DIR]\n",
            "                        [--cls_image_shape CLS_IMAGE_SHAPE]\n",
            "                        [--label_list LABEL_LIST]\n",
            "                        [--cls_batch_num CLS_BATCH_NUM]\n",
            "                        [--cls_thresh CLS_THRESH]\n",
            "                        [--enable_mkldnn ENABLE_MKLDNN]\n",
            "                        [--cpu_threads CPU_THREADS]\n",
            "                        [--use_pdserving USE_PDSERVING] [--warmup WARMUP]\n",
            "                        [--sr_model_dir SR_MODEL_DIR]\n",
            "                        [--sr_image_shape SR_IMAGE_SHAPE]\n",
            "                        [--sr_batch_num SR_BATCH_NUM]\n",
            "                        [--draw_img_save_dir DRAW_IMG_SAVE_DIR]\n",
            "                        [--save_crop_res SAVE_CROP_RES]\n",
            "                        [--crop_res_save_dir CROP_RES_SAVE_DIR]\n",
            "                        [--use_mp USE_MP]\n",
            "                        [--total_process_num TOTAL_PROCESS_NUM]\n",
            "                        [--process_id PROCESS_ID] [--benchmark BENCHMARK]\n",
            "                        [--save_log_path SAVE_LOG_PATH] [--show_log SHOW_LOG]\n",
            "                        [--use_onnx USE_ONNX] [--output OUTPUT]\n",
            "                        [--table_max_len TABLE_MAX_LEN]\n",
            "                        [--table_algorithm TABLE_ALGORITHM]\n",
            "                        [--table_model_dir TABLE_MODEL_DIR]\n",
            "                        [--merge_no_span_structure MERGE_NO_SPAN_STRUCTURE]\n",
            "                        [--table_char_dict_path TABLE_CHAR_DICT_PATH]\n",
            "                        [--layout_model_dir LAYOUT_MODEL_DIR]\n",
            "                        [--layout_dict_path LAYOUT_DICT_PATH]\n",
            "                        [--layout_score_threshold LAYOUT_SCORE_THRESHOLD]\n",
            "                        [--layout_nms_threshold LAYOUT_NMS_THRESHOLD]\n",
            "                        [--kie_algorithm KIE_ALGORITHM]\n",
            "                        [--ser_model_dir SER_MODEL_DIR]\n",
            "                        [--ser_dict_path SER_DICT_PATH]\n",
            "                        [--ocr_order_method OCR_ORDER_METHOD] [--mode MODE]\n",
            "                        [--image_orientation IMAGE_ORIENTATION]\n",
            "                        [--layout LAYOUT] [--table TABLE] [--ocr OCR]\n",
            "                        [--recovery RECOVERY] [--save_pdf SAVE_PDF]\n",
            "predict_table.py: error: ambiguous option: --t could match --total_process_num, --table_max_len, --table_algorithm, --table_model_dir, --table_char_dict_path, --table\n"
          ]
        }
      ]
    },
    {
      "cell_type": "code",
      "source": [],
      "metadata": {
        "id": "5sZbKlTYqU-d"
      },
      "execution_count": null,
      "outputs": []
    }
  ]
}